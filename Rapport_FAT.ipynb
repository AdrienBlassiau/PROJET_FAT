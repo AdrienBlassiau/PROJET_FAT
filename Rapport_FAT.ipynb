{
 "cells": [
  {
   "cell_type": "code",
   "execution_count": 1,
   "metadata": {},
   "outputs": [],
   "source": [
    "from migration_process import *\n",
    "import numpy as np\n",
    "import matplotlib.pyplot as plt\n",
    "from parameters import *"
   ]
  },
  {
   "cell_type": "markdown",
   "metadata": {},
   "source": [
    "# 1. Modélisation Markovienne du problème\n",
    "\n",
    "## 1.1 Rappel des consignes\n",
    "\n",
    "Tout d'abord, rappelons les consignes du problème avec les notations utilisées :\n",
    "\n",
    "* On s'intéresse à $N$ stations Vélib qui contiennent respectivement $v_{i}$, $i\\in\\{1,\\ldots,N\\}$ places.\n",
    "Il y a $K\\leq\\sum_{i=1}^{N} v_{i}$ vélos dans le système.\n",
    "* Des vélos se déplacent entre ces stations. Aucun vélo ne vient de l'extérieur, le système est donc **fermé**.\n",
    "\n",
    "* On dispose des **paramètres** suivants :\n",
    "    - $\\forall i\\in\\{1,\\ldots,N\\}$, $\\lambda_{i}$ **correspond à l'intensité des occurrences de demandes de vélos à la station $\\mathbf{i}$**.\n",
    "    - $\\forall i,j \\in\\{1,\\ldots,N\\}$ tels que $i \\neq j$, **le temps de trajet en vélo de la station $\\mathbf{i}$ à la station $\\mathbf{j}$** $\\sim \\mathcal{E}(\\lambda_{ij})$. Attention, $\\lambda_{ij}\\neq\\lambda_{ji}$ en général.\n",
    "    - une matrice de routage $P$ carrée de taille $N$, avec $\\forall i, \\sum_{j=1}^{N} p_{ij}=1$ (elle est donc stochastique) où $\\forall i,j$, $\\mathbf{p_{ij}}$ **est interprété comme la probabilité d'aller vers $\\mathbf{j}$ pour un vélo qui part de la station $\\mathbf{i}$**.\n",
    " \n",
    "* On fait les **hypothèses** suivantes :\n",
    "    - Il n'y a **pas de boucle**, donc $\\forall i,p_{ii}=0$\n",
    "    - Si un vélo trouve la station d'arrivée $j$ pleine, on tire au sort une nouvelle station d'arrivée $k$ suivant $p_{jk}$ où $k \\in\\{1,\\ldots,N\\}$ avec $k \\neq j$\n",
    "    - Si une requête à la station $i$ ne trouve pas de vélo, elle est perdue.\n",
    " \n",
    "## 1.2 Modélisation\n",
    "\n",
    "### 1.2.1 Espace d'états\n",
    "\n",
    "\n",
    "On représente notre système par un ensemble de $N^{2}$ noeuds de deux types :\n",
    "\n",
    "* $N$ noeuds représentent les stations de Vélib, ils sont de la forme $n_{ii}, \\forall i\\in\\{1,\\ldots,N\\}$.\n",
    "* $N(N-1)$ noeuds représentant les itinéraires d'une station vers une autre, ils sont de la forme $n_{ij}, \\forall i,j\\in\\{1,\\ldots,N\\}$ tels que $i \\neq j$."
   ]
  },
  {
   "cell_type": "markdown",
   "metadata": {},
   "source": [
    "On s'inspire du chapitre *sur les colonies* issu du livre de Kelly pour la modélisation Markovienne. Une **colonie** est ici un noeud de notre graphe, donc une station ou un itinéraire, et un **individu** est un vélo.\n",
    "\n",
    "L'espace des états est :\n",
    "\n",
    "$$S= \\{(n_{ij})_{i,j\\in\\{1,\\ldots,N\\}} \\in \\{0,\\ldots,K\\}^{N^2} :  \\sum_{i=1}^{N}\\sum_{j=1}^{N}n_{ij}=K \\wedge \\forall i\\in\\{1,\\ldots,N\\}, n_{ii} \\le v_{i}\\}$$\n",
    "\n",
    "Ainsi :\n",
    "* chaque état est noté $n=(n_{11},n_{12},...,n_{NN})$ où $n_{ij}$ correspond au nombre de vélos dans l'état correspondant\n",
    "* $\\sum_{i=1}^{N}\\sum_{j=1}^{N}n_{ij}=K \\wedge \\forall i\\in\\{1,\\ldots,N\\}, n_{ii} \\le v_{i}\\}$ sont les deux **contraintes de capacité** qui formalisent le fait que le nombre de vélos total est $K$ et que chaque station ne doit pas stocker plus de vélos qu'elle n'a de places.\n",
    "\n",
    "Enfin, pour résumer, on quitte une station $n_{ii}$ en suivant une loi exponentielle de paramètre $\\lambda_{i}$, on choisit une station d'arrivée $n_{jj}$ avec une probabilité $p_{ij}$ puis on se retrouve dans l'itinéraire vers la station $n_{jj}$, itinéraire que l'on quitte selon une loi exponentielle de paramètre $\\lambda_{ij}$. Si la station $n_{jj}$ est pleine, on se dirige directement vers la station $n_{kk}$ avec une probabilité $p_{jk}$."
   ]
  },
  {
   "cell_type": "markdown",
   "metadata": {},
   "source": [
    "### 1.2.2 Générateur infinitésimal\n",
    "\n",
    "Soit $n_{k}$ et $n_{l}$ deux noeuds distincts, $i,j\\in\\{1,\\ldots,N\\} \\mbox{ avec } i \\neq j$. Tout comme Kelly, on définit un opérateur $T_{kl}$ qui formalise soit :\n",
    "\n",
    "* le **départ d'un vélo d'une station** $n_{ii}$ **vers un itinéraire** $n_{ij}$. Dans ce cas, $n_{k}$ est une station et $k=(ii)$ ; $n_{l}$ est un itinéraire et $l=(ij)$.\n",
    "* l'**arrivée d'un vélo dans une station** $n_{jj}$ **venant d'un itinéraire** $n_{ij}$, si $n_{jj} < v_{j}$. Dans ce cas, $n_{k}$ est un itinéraire et $k=(ij)$ ; $n_{l}$ est une station et $l=(jj)$.\n",
    "* l'**arrivée d'un vélo dans un itinéraire** $n_{jm}$ **venant d'un itinéraire** $n_{ij}$, si $n_{jj} = v_{j}$. Dans ce cas, $n_{k}$ est un itinéraire et $k=(ij)$ ; $n_{l}$ est un itinéraire et $l=(jm)$.\n",
    "\n",
    "$T_{kl}(n_{11},n_{12},\\ldots,n_{NN}) =$\n",
    "\n",
    "$$\n",
    "\\left\\{\n",
    "    \\begin{array}{ll}\n",
    "        T_{kl}(n_{11},n_{12},\\ldots,n_{k}-1,\\ldots,n_{l}+1,\\ldots,n_{NN}), \\quad \\mbox{ si } k=(ii), l=(ij) \\mbox{ et }  i<j \\\\\n",
    "        T_{kl}(n_{11},n_{12},\\ldots,n_{l}+1,\\ldots,n_{k}-1,\\ldots,n_{NN}), \\quad \\mbox{ si } k=(ii), l=(ij) \\mbox{ et }  i>j \\\\\n",
    "        T_{kl}(n_{11},n_{12},\\ldots,n_{k}-1,\\ldots,n_{l}+1,\\ldots,n_{NN}), \\quad \\mbox{ si } k=(ij), l=(jj) \\mbox{ et }  i<j \\mbox{ et } n_{jj} < v_{j}\\\\\n",
    "        T_{kl}(n_{11},n_{12},\\ldots,n_{l}+1,\\ldots,n_{k}-1,\\ldots,n_{NN}), \\quad \\mbox{ si } k=(ij), l=(jj) \\mbox{ et }  i>j \\mbox{ et } n_{jj} < v_{j}\\\\\n",
    "        T_{kl}(n_{11},n_{12},\\ldots,n_{k}-1,\\ldots,n_{l}+1,\\ldots,n_{NN}), \\quad \\mbox{ si } k=(ij), l=(jm) \\mbox{ et }  i>j \\mbox{ et } n_{jj} = v_{j}\\\\\n",
    "        T_{kl}(n_{11},n_{12},\\ldots,n_{l}+1,\\ldots,n_{k}-1,\\ldots,n_{NN}), \\quad \\mbox{ si } k=(ij), l=(jm) \\mbox{ et }  i<j \\mbox{ et } n_{jj} = v_{j}\\\\\n",
    "    \\end{array}\n",
    "\\right.\n",
    "$$\n",
    "\n",
    "Définissons maintenant les taux de transition qui forment les coefficients du générateur infinitésimal, en utilisant la méthode proposée par Kelly.\n",
    "Une transition ne peut avoir lieu qu'entre un état $n$ et un état $T_{kl}(n)$, où $n_{k}$ et $n_{l}$ sont deux noeuds distincts.\n",
    "On considère que les taux de transition ont la forme suivante : $q(n,T_{kl}(n)) = \\Lambda_{kl}\\phi_{k}(n_{k})$. On distingue les trois cas vus plus haut : \n",
    "\n",
    "* le **départ d'un vélo d'une station** $n_{ii}$ **vers un itinéraire** $n_{ij}$. Dans ce cas, $n_{k}$ est une station et $k=(ii)$ ; $n_{l}$ est un itinéraire et $l=(ij)$. On a : \n",
    "    * $\\Lambda_{kl}=\\lambda_{i}*p_{ij}$ où $\\lambda_{i}$ et $p_{ij}$ sont donnés dans l'énoncé\n",
    "    * $\\phi_{k}(n_{k})=min(n_{ii},1)$ (1 car une station a un serveur)\n",
    "    * **donc** \n",
    " $$\n",
    "     q(n,T_{kl}(n)) = \\lambda_{i}*p_{ij}*min(n_{ii},1)\n",
    " $$\n",
    " \n",
    "* l'**arrivée d'un vélo dans une station** $n_{jj}$ **venant d'un itinéraire** $n_{ij}$, si $n_{jj} < v_{j}$. Dans ce cas, $n_{k}$ est un itinéraire et $k=(ij)$ ; $n_{l}$ est une station et $l=(jj)$. On a :\n",
    "    * $\\Lambda_{kl}$ = $\\lambda_{ij}*p_{ij}=\\lambda_{ij}$ où $\\lambda_{ij}$ est donné dans l'énoncé et $p_{ij}=1$ car on sait déjà où l'on va.\n",
    "    * $\\phi_{k}(n_{k})=min(n_{ij},K)= n_{ij}$ car on ne peut pas avoir plus de vélos sur un itinéraire que le nombre de vélos total ($K$ car un itinéraire à une infinité de serveur, on prend K le nombre total de vélos)\n",
    "    * **donc** \n",
    "    $$\n",
    "    q(n,T_{kl}(n)) = \\lambda_{ij}*n_{ij} \n",
    "    $$\n",
    " \n",
    "* l'**arrivée d'un vélo dans un itinéraire** $n_{jm}$ **venant d'un itinéraire** $n_{ij}$, si $n_{jj} = v_{j}$. Dans ce cas, $n_{k}$ est un itinéraire et $k=(ij)$ ; $n_{l}$ est un itinéraire et $l=(jm)$. On a :\n",
    "    * $\\Lambda_{kl}$ = $\\lambda_{ij}*p_{ij}*p_{jm}=\\lambda_{ij}*p_{jm}$ où $\\lambda_{ij}$ est donné dans l'énoncé, $p_{ij}=1$ car on sait déjà où l'on va et la station $n_{jj}$ étant remplie, on tire une nouvelle station m avec une probabilité $p_{jm}$.\n",
    "    * $\\phi_{k}(n_{k})=min(n_{ij},K)= n_{ij}$ car on ne peut pas avoir plus de vélos sur un itinéraire que le nombre de vélos total ($K$ car un itinéraire à une infinité de serveur, on prend K le nombre total de vélos)\n",
    "    * **donc** \n",
    "    $$\n",
    "    q(n,T_{kl}(n)) = \\lambda_{ij}*n_{ij}*p_{jm}.\n",
    "    $$"
   ]
  },
  {
   "cell_type": "markdown",
   "metadata": {},
   "source": [
    "### 1.2.3 Probabilité stationnaire\n",
    "\n",
    "\n",
    "**Existence :**\n",
    "\n",
    "L’unique probabilité stationnaire $\\pi$ du processus $X$ sur $S$, si elle existe, vérifie le système matriciel $πA=0$ où A est le générateur infinitésimal.\n",
    "L'existence est assurée si :\n",
    "* Le processus doit être est irréductible, c'est-à-dire si tout état est accessible à partir de n'importe quel autre état en un nombre fini d'itérations. **C'est trivialement le cas ici**.\n",
    "* L'espace d'états doit être fini. On rappelle que l'on a :\n",
    "$$\n",
    "S= \\{(n_{ij})_{i,j\\in\\{1,\\ldots,N\\}} \\in \\{0,\\ldots,K\\}^{N^2} :  \\sum_{i=1}^{N}\\sum_{j=1}^{N}n_{ij}=K \\wedge \\forall i\\in\\{1,\\ldots,N\\}, n_{ii} \\le v_{i}\\}\n",
    "$$\n",
    "Le cardinal de cet ensemble est borné par $(K+1)^{N^2}$, il est donc fini.\n",
    "\n",
    "**Expression :**\n",
    "\n",
    "Pour déterminer l'expression de la probabilité stationnaire, on utilise les équations de trafic données par Kelly pour tout d'abord déterminer les $\\alpha_{ij}$ (on se place dans le cas particulier d'un système à un individu, comme Kelly). On obtient les deux équations suivantes :\n",
    "\n",
    "\\begin{align}\n",
    "    \\forall i,\\quad & \\alpha_{(ii)}\\sum_{j\\neq i}^{}\\Lambda_{(ii),(ij)} = \\sum_{j\\neq i}^{}\\alpha_{(ji)}\\Lambda_{(ji),(ii)}\\\\ \n",
    "    \\forall i\\neq j,\\quad & \\alpha_{(ij)}\\Lambda_{(ij),(jj)} = \\alpha_{(ii)}\\Lambda_{(ii),(ij)}\n",
    "\\end{align}\n",
    "\n",
    "qui donne : \n",
    "\n",
    "\\begin{align}\n",
    "    \\forall i,\\quad & \\alpha_{(ii)}\\sum_{j\\neq i}^{}\\lambda_{i}p_{ij} = \\sum_{j\\neq i}^{}\\alpha_{(ji)}\\lambda_{ji}\\\\ \n",
    "    \\forall i\\neq j,\\quad & \\alpha_{(ij)}\\lambda_{ij} = \\alpha_{(ii)}\\lambda_{i}p_{ij}\n",
    "\\end{align}\n",
    "\n",
    "en enfin, en considérant que $\\sum_{j\\neq i}^{}p_{ij}=1$ et en inversant $i$ et $j$ dans (4):\n",
    "\n",
    "\\begin{align}\n",
    "    \\forall i,\\quad & \\alpha_{(ii)}\\lambda_{i} = \\sum_{j\\neq i}^{}\\alpha_{(ji)}\\lambda_{ji}\\\\ \n",
    "    \\forall i\\neq j,\\quad & \\alpha_{(ji)}\\lambda_{ji} = \\alpha_{(jj)}\\lambda_{j}p_{ji}\n",
    "\\end{align}\n",
    "\n",
    "En injectant (6) dans (5) et en posant $\\alpha_{ii}=\\alpha_{i}$ on obtient :\n",
    "\n",
    "\\begin{align}\n",
    "    \\forall i,\\quad & \\alpha_{i} = \\frac{1}{\\lambda_{i}}\\sum_{j\\neq i}^{}\\alpha_{j}\\lambda_{j}p_{ji}\n",
    "\\end{align}\n",
    "\n",
    "De plus, on a la contrainte suivante, sachant que $\\forall i, \\alpha_{i} > 0  \\mbox{ et avec } i\\neq j, \\alpha_{(ij)} > 0$: \n",
    "\n",
    "\\begin{align}\n",
    "    \\sum_{i}^{} \\alpha_{i} + \\sum_{i}^{}\\sum_{j\\neq i}^{} \\alpha_{(ij)} = 1\n",
    "\\end{align}\n",
    "\n",
    "qui devient, en utilisant (4)\n",
    "\n",
    "\\begin{align}\n",
    "    \\sum_{i}^{} \\alpha_{i} + \\sum_{i}^{}\\sum_{j\\neq i}^{} \\frac{\\alpha_{i}\\lambda_{i}p_{ij}}{\\lambda_{ij}} = 1\n",
    "\\end{align}\n",
    "\n",
    "donc, on obtient, après inversion de i et j : \n",
    "\\begin{align}\n",
    "    \\sum_{j}^{}\\left( 1 + \\lambda_{j}\\sum_{i\\neq j}^{} \\frac{p_{ji}}{\\lambda_{ji}}\\right)\\alpha_{j} = 1\n",
    "\\end{align}\n",
    "On peut maintenant réécrire (7) matriciellement, en utilisant (10) :\n",
    "\\begin{align}\n",
    "    (P-I)\\alpha=X\n",
    "\\end{align}\n",
    "où $P$ et la matrice dont les coefficients sont les $\\left(\\frac{\\lambda_{j}p_{ji}}{\\lambda_{i}}\\right)_{i,j\\in\\{1,\\ldots,N\\}}$.\n",
    "\n",
    "Pour éviter d'obtenir la solution nulle, on remplace la première ligne de $(P-I)$ par $\\left( 1 + \\lambda_{j}\\sum_{i\\neq j}^{} \\frac{p_{ji}}{\\lambda_{ji}}\\right)_{j\\in\\{1,\\ldots,N\\}}$ et la première ligne de $X$ par 1.\n",
    "\n",
    "**On obtient les $\\alpha_{i}$ en résolvant ce système. Pour obtenir les $\\alpha_{ij}$, on utilise (4).**\n",
    "\n",
    "Notre probabilité stationnaire est finalement obtenue en utilisant la formule du Théorème 2.4 de Kelly : \n",
    "\n",
    "\\begin{align}\n",
    "    \\pi(n) = G_{K}^{-1}\\prod_{i=1}^{N}\\prod_{j=1}^{N}\\frac{\\alpha_{ij}^{n_{ij}}}{\\prod_{r=1}^{n_{ij}}\\phi_{ij}(r)},\\quad & n \\in S\n",
    "\\end{align}\n",
    "où $G_{N}$ peut être obtenue en considérant que $\\sum_{n\\in S}^{}\\pi(n)=1$."
   ]
  },
  {
   "cell_type": "markdown",
   "metadata": {},
   "source": [
    "# 2. Calibration des paramètres\n",
    "\n",
    "Nous calculons maintenant les valeurs des paramètres $\\lambda_{i}$, $\\lambda_{i,j}$ et $q_{i,j}$ à l'aide des données du réseau de Rouen.\n",
    "\n",
    "Pour cela on dispose de deux fichiers contenant respectivement le nombre moyen de départs et d'arrivées à chacune des stations de Rouen et le temps de trajet moyen entre ces stations.\n",
    "\n",
    "## 2.1 $\\lambda_i$\n",
    "\n",
    "Les $\\lambda_i$ correspondent à l’intensité des occurrences de la demande de vélos à la station i. On suppose qu'elles suivent une loi de Poisson, d'où $\\mathbb{E}[X_i] = \\lambda_i$. On les trouve à partir du nombre moyen de départs en une heure. Les valeurs obtenues sont disponibles dans le fichier *Calibration\\ données\\ Vlib\\ -\\ Feuille\\ 1.pdf*.\n",
    "\n",
    "\n",
    "## 2.2 $\\lambda_{ij}$\n",
    "\n",
    "Les $\\lambda_{ij}$ sont directement reliés au nombre de vélos qui quittent la station $i$ pour se rendre à la station $j$ par unité de temps. On les obtient à partir du tableau\n",
    "contenant l'ensemble des temps de trajets entre chacune des stations. On les obtient à partir du tableau contenant l'ensemble des temps de trajets entre chacune des stations. On utilise le fait que les temps de trajets suivent une loi exponentielle $\\epsilon(\\lambda_{ij})$. On en déduit donc que $\\mathbb{E}[X] = \\frac{1}{\\lambda_{ij}}$. D'où $\\lambda_{ij} = \\frac{1}{\\mathbb{E}[X_{ij}]} = \\frac{1}{temps\\ moyen\\ pour\\ aller\\ de\\ i\\ en\\ j}$ (Les $\\lambda_{ii}$ n'ont pas de valeur car il ne peut y avoir un trajet entre une station et elle même).\n",
    "Les valeurs obtenues sont disponibles dans le fichier *Calibration\\ données\\ Vlib\\ -\\ Feuille\\ 2.pdf*.\n"
   ]
  },
  {
   "cell_type": "markdown",
   "metadata": {},
   "source": [
    "## 2.3 $p_{ij}$\n",
    "\n",
    "Afin d'obtenir les valeurs des $p_{ij}$ nous sommes partis du tableau contenant le nombre moyen de départs et d'arrivées dans chaque station du réseau. Nous avons construit le programme linéaire suivant :\n",
    "\n",
    "$$max\\ \\sum_{i = 1}^{N}{\\sum_{j = 1}^{N}{p_{i,j}}}$$\n",
    "\n",
    "sous les contraintes :\n",
    "$$\n",
    "\\left\\{\n",
    "    \\begin{array}{ll}\n",
    "        \\forall j \\in \\{1..N\\},\\quad \\ & k_{min}Arr_{j} \\leq \\sum_{i = 1}^{N}{p_{i,j}d_i} \\leq k_{max}Arr_{j} \\\\\n",
    "        \\forall i \\in \\{1..N\\},\\quad \\ & \\sum_{j = 1}^{N}{p_{i,j}} = 1 \\\\\n",
    "        \\forall i \\in \\{1..N\\},\\quad \\ & p_{i,i} = 0 \\\\\n",
    "        \\forall i,j \\in \\{1..N\\} \\mbox{ avec } i \\neq j,\\quad \\ &  0.01 \\leq p_{i,j} \\leq 1 \\\\\n",
    "    \\end{array}\n",
    "\\right.\n",
    "$$\n",
    "\n",
    "$Arr_j$ est le nombre moyen d'arrivées à la station $j$ et $d_i$ est le nombre moyen de départs en $i$.\n",
    "\n",
    "La fonction objectif a été choisie de façon à maximiser les valeurs de $p_{ij}$.\n",
    "\n",
    "$k_{min}$ et $k_{max}$ sont des constantes permettant de prendre en compte le fait qu'étant donné que les valeurs fournies ne sont pas des valeurs exactes mais des moyennes, l'équation $\\forall j \\in \\{1..N\\}\\ \\sum_{i = 1}^{N}{p_{i,j}d_i} = Arr_j$ est fausse car la somme de tous les départs ne coïncident pas avec celles de toutes les arrivées.\n",
    "\n",
    "Les résultats obtenus ne sont pas satisfaisant ; en effet le modèle PL renvoie des solutions mettant la plupart des valeurs à 0.01 et seulement deux ou trois à des valeurs acceptables. Il aurait fallu avoir des valeurs plus précises sur les nombres de départs et d'arrivées afin d'obtenir des résultats plus probants.\n"
   ]
  },
  {
   "cell_type": "markdown",
   "metadata": {},
   "source": [
    "## 2.4 Paramètres calculés à partir du modèle réduit à 5 stations"
   ]
  },
  {
   "cell_type": "markdown",
   "metadata": {},
   "source": [
    "À partir du modèle à 5 stations, on calcule les différents paramètres dont notre modèle aura besoin pour simuler des trajectoires. Tous ces paramètres sont stockés dans un objet de type **MigrationProcess**. Voici son contenu lors de son initialisation :"
   ]
  },
  {
   "cell_type": "code",
   "execution_count": 2,
   "metadata": {},
   "outputs": [
    {
     "name": "stdout",
     "output_type": "stream",
     "text": [
      "Nombre de stations : 5\n",
      "Nombre de vélos dans le réseau : 80\n",
      "Temps initial : 0.0\n",
      "Intensité des occurences de demande de vélos à la station i (1/min) : \n",
      "[ 0.04666667  0.06166667  0.09166667  0.05833333  0.07666667]\n",
      "Intensité des trajets en vélo de la station i à la station j (1/min) : \n",
      "[[ 0.          0.33333333  0.2         0.14285714  0.14285714]\n",
      " [ 0.5         0.          0.5         0.2         0.2       ]\n",
      " [ 0.25        0.5         0.          0.33333333  0.33333333]\n",
      " [ 0.125       0.16666667  0.25        0.          0.5       ]\n",
      " [ 0.14285714  0.14285714  0.2         0.5         0.        ]]\n",
      "Matrice de routage : \n",
      "[[ 0.    0.2   0.3   0.2   0.3 ]\n",
      " [ 0.2   0.    0.3   0.2   0.3 ]\n",
      " [ 0.2   0.25  0.    0.25  0.3 ]\n",
      " [ 0.15  0.2   0.3   0.    0.35]\n",
      " [ 0.2   0.25  0.35  0.2   0.  ]]\n",
      "Nombre de places par station : \n",
      "[24 20 20 15 20]\n",
      "État courant (nombre de vélos par colonie), généré aléatoirement à l'initialisation: \n",
      "[[ 3.  1.  6.  3.  5.]\n",
      " [ 2.  5.  5.  4.  2.]\n",
      " [ 2.  4.  1.  2.  3.]\n",
      " [ 1.  2.  4.  4.  5.]\n",
      " [ 1.  2.  7.  4.  2.]]\n",
      "Temps durant lequel chaque station est vide (nul au démarrage ...) : \n",
      "[ 0.  0.  0.  0.  0.]\n"
     ]
    }
   ],
   "source": [
    "process = MigrationProcess(number_of_stations,\n",
    "                           number_of_bikes,\n",
    "                           initial_time,\n",
    "                           lambda_station_matrix,\n",
    "                           lambda_station_list_per_mins,\n",
    "                           lambda_itinerary_matrix,                           \n",
    "                           routing_matrix,\n",
    "                           station_size_list)\n",
    "\n",
    "process.print_process()"
   ]
  },
  {
   "cell_type": "markdown",
   "metadata": {},
   "source": [
    "# 3. Étude de la modélisation\n",
    "\n",
    "Avant de commencer l'étude, on remarque que les états initiaux sont générés aléatoirement \n",
    "par la fonction **init_state_matrix**, tout en respectant les différentes contraintes de capacité.\n",
    "\n",
    "## 3.1 Étude avec 1 vélo\n",
    "\n",
    "On commence par le cas trivial de 1 vélo en partage sur les 5 stations. L'espace des états est ici : \n",
    "$$S= \\{(n_{ij})_{i,j\\in\\{1,\\ldots,N\\}} \\in \\{0,\\ldots,K\\}^{N^2} :  \\sum_{i=1}^{N}\\sum_{j=1}^{N}n_{ij}=1 \\wedge \\forall i\\in\\{1,\\ldots,N\\}, n_{ii} \\le v_{i}\\}$$\n",
    "\n",
    "Le vélo circule entre les stations et les itinéraires. Ainsi, il y a autant d'états que de possibilités de remplir une des colonies par un vélo donc $N^2$ états. Ici, on s'intéresse à une modélisation à 5 stations donc 25 états : $\\{(1,0,0,\\ldots),(0,1,0,\\ldots),(0,0,1,\\ldots),\\ldots \\}$. L'expression des $\\alpha_{ij}$ a été obtenue dans la section **Probabilité stationnaire** plus haut.\n",
    "\n",
    "Exprimons maintenant la probabilité stationnaire dans ce cas précis, en utilisant la formule donnée par Kelly.\n",
    "\n",
    "Déterminons en premier le facteur $G_{1}$. Soit $n=(n_{11},\\ldots,n_{kl},\\ldots,n_{NN})$ un état quelconque tel que le vélo se trouve dans la colonie $n_{kl}$. On trouve, après simplification de l'expression de la probabilité stationnaire de Kelly, $\\pi(n) = G_{1}^{-1}\\alpha_{kl}$. \n",
    "\n",
    "Ainsi, $\\forall n \\in S$ : $\\sum_{i=1}^{N}\\sum_{j=1}^{N} \\pi(n) = \\sum_{i=1}^{N}\\sum_{j=1}^{N} G_{1}^{-1} \\alpha_{ij} = 1$, donc $G_{1} = \\sum_{i=1}^{N}\\sum_{j=1}^{N} \\alpha_{ij}$.\n",
    "\n",
    "On sait que la probabilité qu'une colonie $n_{kl}$ soit **pleine** est donnée par : $\\pi(n) = G_{1}^{-1}\\alpha_{kl}$, donc la probabilité qu'une colonie $n_{kl}$ soit **vide** est donnée par $\\pi(n) = 1 - G_{1}^{-1}\\alpha_{kl}$\n",
    "\n",
    "En utilisant cette formule, on obtient les **probabilités théoriques que chaque station soit vide** suivantes :"
   ]
  },
  {
   "cell_type": "code",
   "execution_count": 3,
   "metadata": {},
   "outputs": [
    {
     "data": {
      "text/plain": [
       "array([[ 0.82453272],\n",
       "       [ 0.84449565],\n",
       "       [ 0.86547538],\n",
       "       [ 0.84433184],\n",
       "       [ 0.84072577]])"
      ]
     },
     "execution_count": 3,
     "metadata": {},
     "output_type": "execute_result"
    }
   ],
   "source": [
    "number_of_bikes = 1\n",
    "process = MigrationProcess(number_of_stations,\n",
    "                           number_of_bikes,\n",
    "                           initial_time,\n",
    "                           lambda_station_matrix,\n",
    "                           lambda_station_list_per_mins,\n",
    "                           lambda_itinerary_matrix,                           \n",
    "                           routing_matrix,\n",
    "                           station_size_list)\n",
    "\n",
    "theory = process.compute_theorical_proba_emptiness()\n",
    "theory"
   ]
  },
  {
   "cell_type": "markdown",
   "metadata": {},
   "source": [
    "On calcule maintenant de manière empirique la probabilité que chaque station soit vide. On lance 1000 simulations. Cette probabilité est calculée de deux manières différentes:\n",
    "\n",
    "* En calculant la moyenne du pourcentage d'itérations où chaque station est vide durant les 150 heures de chaque simulation (méthode M1)\n",
    "* En faisant la moyenne du nombre de fois où chaque station se retrouve vide à la fin des 150 heures du processus, donc après un temps long (méthode M2)\n",
    "\n",
    "On obtient les **probabilités empiriques que chaque station soit vide** suivantes pour chaque méthode, avec les écarts de l'intervalle de confiance à 95% associés. Les intervalles de confiance sont en rose sur le graphique. "
   ]
  },
  {
   "cell_type": "code",
   "execution_count": 4,
   "metadata": {},
   "outputs": [
    {
     "name": "stdout",
     "output_type": "stream",
     "text": [
      "       Stations     P Théorique  P Empirique M1       IC 95% M1  P Empirique M2       IC 95% M2\n",
      "              1        0.824533        0.821440 [-0.010343;+0.010343] 0.900000 [-0.185942;+0.185942]\n",
      "              2        0.844496        0.855402 [-0.008795;+0.008795] 1.000000 [-0.000000;+0.000000]\n",
      "              3        0.865475        0.854516 [-0.006589;+0.006589] 0.600000 [-0.303642;+0.303642]\n",
      "              4        0.844332        0.847308 [-0.010343;+0.010343] 0.700000 [-0.284031;+0.284031]\n",
      "              5        0.840726        0.844597 [-0.007667;+0.007667] 0.900000 [-0.185942;+0.185942]\n"
     ]
    },
    {
     "data": {
      "image/png": "[encoded data removed]",
      "text/plain": [
       "<matplotlib.figure.Figure at 0x7f287ca429e8>"
      ]
     },
     "metadata": {
      "needs_background": "light"
     },
     "output_type": "display_data"
    }
   ],
   "source": [
    "_ = MigrationProcess.estimate_time(10,T_max,process,theory,True)"
   ]
  },
  {
   "cell_type": "markdown",
   "metadata": {},
   "source": [
    "On remarque que l'on obtient de **très bons résultats** pour la **méthode 1**, bien que les intervalles de confiance soient très **resserrés**. **Nos probabilités obtenues empiriquement coïncident avec les probabilités obtenues théoriquement**.\n",
    "\n",
    "La **méthode 2** est de **moins bonne qualité**, ce qui était prévisible. Cependant, les intervalles de confiance sont **plus larges** ce qui permet de **coïncider** là encore avec les résultats obtenus **théoriquement** et de valider l'**ergodicité** du processus.\n",
    "\n",
    "On peut remarquer que la durée indiquée de **150 heures semble être convenable** pour atteindre la **probabilité stationnaire**."
   ]
  },
  {
   "cell_type": "markdown",
   "metadata": {},
   "source": [
    "## 3.2 Étude avec 100 vélos\n",
    "\n",
    "On garde la même matrice de routage, les mêmes temps de transit, etc. En revanche, on suppose que l’on a 100 vélos dans le système.\n",
    "\n",
    "L'espace des états est ici : \n",
    "$$S= \\{(n_{ij})_{i,j\\in\\{1,\\ldots,N\\}} \\in \\{0,\\ldots,K\\}^{N^2} :  \\sum_{i=1}^{N}\\sum_{j=1}^{N}n_{ij}=100 \\wedge \\forall i\\in\\{1,\\ldots,N\\}, n_{ii} \\le v_{i}\\}$$\n",
    "\n",
    "Cette fois ci, on remarque qu'il va être très difficile d'obtenir des résultats théoriques car **l'espace d'états est immense**, l'étude de la complexité va nous le confirmer.\n",
    "\n",
    "On calcule par simulation la probabilité stationnaire pour chaque station d’être vide, en précisant les intervalles de confiance : "
   ]
  },
  {
   "cell_type": "code",
   "execution_count": 5,
   "metadata": {},
   "outputs": [
    {
     "name": "stdout",
     "output_type": "stream",
     "text": [
      "Progress : 0 %\r",
      "       Stations  P Empirique M1       IC 95% M1  P Empirique M2       IC 95% M2\n",
      "              1        0.000000 [-0.000000;+0.000000] 0.000000 [-0.000000;+0.000000]\n",
      "              2        0.000000 [-0.000000;+0.000000] 0.000000 [-0.000000;+0.000000]\n",
      "              3        0.000000 [-0.000000;+0.000000] 0.000000 [-0.000000;+0.000000]\n",
      "              4        0.000000 [-0.000000;+0.000000] 0.000000 [-0.000000;+0.000000]\n",
      "              5        0.000000 [-0.000000;+0.000000] 0.000000 [-0.000000;+0.000000]\n"
     ]
    }
   ],
   "source": [
    "number_of_bikes = 100\n",
    "process = MigrationProcess(number_of_stations,\n",
    "                           number_of_bikes,\n",
    "                           initial_time,\n",
    "                           lambda_station_matrix,\n",
    "                           lambda_station_list_per_mins,\n",
    "                           lambda_itinerary_matrix,                           \n",
    "                           routing_matrix,\n",
    "                           station_size_list)\n",
    "\n",
    "_ = MigrationProcess.estimate_time(1,T_max,process,None,True)"
   ]
  },
  {
   "cell_type": "markdown",
   "metadata": {},
   "source": [
    "La capacité totale de nos stations est de $24+20+20+15+20=99$ vélos. Avec 100 vélos dans le système, les stations sont très souvent remplies et quasiment jamais vides, car il est compliqué de vider une colonie avec une population initiale très importante et une matrice de routage avec des coefficients assez homogènes. Il est donc logique que la probabilité stationnaire recherchée soit presque nulle pour toutes les stations."
   ]
  },
  {
   "cell_type": "markdown",
   "metadata": {},
   "source": [
    "**Étude de la complexité :**\n",
    "\n",
    "Notons $V_{i}$ l’ensemble des états où la station $i$ est vide. Pour 100 vélos et 5 stations, on cherche quelle serait la complexité du calcul de $\\pi(V_{1})$ en termes de nombres d'opérations. Pour\n",
    "simplifier le calcul, on suppose que les stations ont une capacité\n",
    "nulle, et que les itinéraires ont une capacité infinie. On peut donc placer tous les vélos sur un itinéraire.\n",
    "\n",
    "On sait que le nombre de façons de répartir k éléments indiscernables dans n ensembles discernables, est donné par : $$C_{k}^{n+k-1} = \\frac{(n+k-1)!}{k!(n-1)!}$$\n",
    "\n",
    "Dans notre cas, $k=100$ et $n=20$, cela donne :\n",
    "$C_{100}^{119}=4910371215196105953021\\approx4.9103712*10^{21}$.\n",
    "\n",
    "On rappelle :\n",
    "\\begin{align}\n",
    "    \\pi(n) = G_{100}^{-1}\\prod_{i=1}^{N}\\prod_{j=1}^{N}\\frac{\\alpha_{ij}^{n_{ij}}}{\\prod_{r=1}^{n_{ij}}\\phi_{ij}(r)},\\quad & n \\in S\n",
    "\\end{align}\n",
    "\n",
    "L'objectif est de calculer $\\pi(V_{1})$. Pour cela, il faut déterminer\n",
    "la constante de normalisation $G_{100}^{-1}$ qui nécessite de faire la\n",
    "somme des probabilités de tous les états, donc $C_{100}^{119}$ sommes.\n",
    "\n",
    "Chaque somme contient $N^{2}$ produits d'au moins 100 produits au\n",
    "dénominateur car $\\sum_{i=1}^{N}\\sum_{j=1}^{N}n_{ij}=100$.\n",
    "\n",
    "On peut donc estimer que le nombre d'opérations à réaliser est minoré\n",
    "par $100*25*C_{100}^{119}$. L'énoncé demande une estimation\n",
    "logarithmique en base 10 de ce nombre pour avoir une idée du nombre de\n",
    "chiffres. On obtient que le nombre d'opérations a au moins 25\n",
    "chiffres, ce qui est très conséquent !\n",
    "\n",
    "On considère une machine ayant une cadence théorique de 10 milliards de FLOPS (donc réalisant $10^{10}$ opérations par secondes), ce qui est classique pour un PC de nos jours.\n",
    "\n",
    "Pour réaliser $10^{24}$ opérations (nombre à 25 chiffres), elle mettra approximativement $T = \\frac{10^{24}}{(10^{10}*60*60*24*365)}$ $\\approx$ 3 millions d'années ...\n"
   ]
  },
  {
   "cell_type": "markdown",
   "metadata": {},
   "source": [
    "# 4 Étude de l'impact des paramètres\n",
    "\n",
    "Il pourrait être intéressant de faire varier certains paramètres afin d'observer leurs impacts sur la probabilité stationnaire qu'une station soit vide.\n",
    "\n",
    "## 4.1 Impact du nombre de vélos dans le système sur la probabilité stationnaire\n",
    "\n",
    "Regardons tout d'abord l'impact du nombre de vélos initial sur le système. On considère une répartition aléatoire des vélos au lancement du processus. On simule une expérience par nombre de vélos, en utilisant la méthode 1 pour estimer la probabilité qu'une station soit vide. On s'arrête à 100 vélos. Chaque expérience est lancée une fois. Dans l'idéal, il faudrait les lancer bien plus de fois mais cela prend beaucoup de temps de calcul."
   ]
  },
  {
   "cell_type": "code",
   "execution_count": 6,
   "metadata": {},
   "outputs": [
    {
     "name": "stdout",
     "output_type": "stream",
     "text": [
      "Progress : 100 %\r"
     ]
    },
    {
     "data": {
      "image/png": "[encoded data removed]",
      "text/plain": [
       "<matplotlib.figure.Figure at 0x7f287c946cf8>"
      ]
     },
     "metadata": {
      "needs_background": "light"
     },
     "output_type": "display_data"
    }
   ],
   "source": [
    "MigrationProcess.bike_number_impact(100)"
   ]
  },
  {
   "cell_type": "markdown",
   "metadata": {},
   "source": [
    "On remarque que plus le nombre de vélos est important dans le système, plus la probabilité stationnaire qu'une station soit vide est faible et plus les écarts se creusent entre les stations. On observe ainsi que c'est la\n",
    "station 3 qui a le plus de chance d'être vide et que cela devient de plus en plus flagrant avec l'augmentation de vélos dans le système. Cependant, autour de 90 vélos, la probabilité pour une station d'être vide est proche de zéro."
   ]
  },
  {
   "cell_type": "markdown",
   "metadata": {},
   "source": [
    "## 4.2 Impact de la durée du processus sur l'obtention de la probabilité stationnaire\n",
    "\n",
    "Regardons maintenant l'impact de la durée du processus sur l'obtention de la probabilité stationnaire avec 1 vélo. On rappelle qu'après 150 heures, la probabilité stationnaire semblait être atteinte vus les résultats précédents. Chaque expérience est lancée 1000 fois. On regarde l'écart à la probabilité stationnaire en fonction du temps."
   ]
  },
  {
   "cell_type": "code",
   "execution_count": 7,
   "metadata": {},
   "outputs": [
    {
     "name": "stdout",
     "output_type": "stream",
     "text": [
      "Progress : 97 %\r"
     ]
    },
    {
     "data": {
      "image/png": "[encoded data removed]",
      "text/plain": [
       "<matplotlib.figure.Figure at 0x7f287c06b588>"
      ]
     },
     "metadata": {
      "needs_background": "light"
     },
     "output_type": "display_data"
    }
   ],
   "source": [
    "MigrationProcess.process_duration_impact(40,theory)"
   ]
  },
  {
   "cell_type": "markdown",
   "metadata": {},
   "source": [
    "On remarque que la probabilité stationnaire est atteinte assez rapidement. On observe qu'autour de 30 heures de processus, les différentes probabilités ne varient presque plus ."
   ]
  },
  {
   "cell_type": "code",
   "execution_count": null,
   "metadata": {},
   "outputs": [],
   "source": []
  }
 ],
 "metadata": {
  "kernelspec": {
   "display_name": "Python 3",
   "language": "python",
   "name": "python3"
  },
  "language_info": {
   "codemirror_mode": {
    "name": "ipython",
    "version": 3
   },
   "file_extension": ".py",
   "mimetype": "text/x-python",
   "name": "python",
   "nbconvert_exporter": "python",
   "pygments_lexer": "ipython3",
   "version": "3.6.9"
  }
 },
 "nbformat": 4,
 "nbformat_minor": 2
}
